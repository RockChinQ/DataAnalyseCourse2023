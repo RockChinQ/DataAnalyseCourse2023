{
 "cells": [
  {
   "cell_type": "markdown",
   "metadata": {},
   "source": [
    "## Exercise 2: functin and class\n",
    "\n",
    "#### 姓名：秦骏言\n",
    "#### 学号：20215178\n",
    "注意事项\n",
    "（1） 填写\"姓名”、“学号”；\n",
    "（2） 注意提交截止日期：2023.11.3\n",
    "（3） 将 ipynb 文件转换为 pdf 文件上交作业;\n"
   ]
  },
  {
   "cell_type": "code",
   "execution_count": 2,
   "metadata": {
    "ExecuteTime": {
     "end_time": "2023-10-26T01:21:18.175141Z",
     "start_time": "2023-10-26T01:21:18.111486Z"
    }
   },
   "outputs": [
    {
     "name": "stdout",
     "output_type": "stream",
     "text": [
      "300\n",
      "180\n",
      "120\n"
     ]
    }
   ],
   "source": [
    "# 1. Convert Minutes into Seconds\n",
    "# Write a function that takes an integer minutes and converts it to seconds.\n",
    "\n",
    "# Examples\n",
    "# convert(5) ➞ 300\n",
    "# convert(3) ➞ 180\n",
    "# convert(2) ➞ 120\n",
    "def convert(minutes):\n",
    "    return minutes * 60\n",
    "\n",
    "print(convert(5))\n",
    "print(convert(3))\n",
    "print(convert(2))\n"
   ]
  },
  {
   "cell_type": "code",
   "execution_count": 3,
   "metadata": {
    "ExecuteTime": {
     "end_time": "2023-10-26T01:21:18.236043Z",
     "start_time": "2023-10-26T01:21:18.119947Z"
    }
   },
   "outputs": [
    {
     "name": "stdout",
     "output_type": "stream",
     "text": [
      "77\n",
      "532\n",
      "77\n",
      "532\n"
     ]
    }
   ],
   "source": [
    "# 2. String to Integer and Vice Versa\n",
    "# Write two functions:\n",
    "# to_int() : A function to convert a string to an integer.\n",
    "# to_str() : A function to convert an integer to a string.\n",
    "\n",
    "# Examples\n",
    "# to_int(\"77\") ➞ 77\n",
    "# to_int(\"532\") ➞ 532\n",
    "# to_str(77) ➞ \"77\"\n",
    "# to_str(532) ➞ \"532\"\n",
    "def to_int(txt):\n",
    "    return int(txt)\n",
    "\n",
    "def to_str(num):\n",
    "    return str(num)\n",
    "\n",
    "print(to_int(\"77\"))\n",
    "print(to_int(\"532\"))\n",
    "print(to_str(77))\n",
    "print(to_str(532))\n"
   ]
  },
  {
   "cell_type": "code",
   "execution_count": 4,
   "metadata": {
    "ExecuteTime": {
     "end_time": "2023-10-26T01:21:18.281385Z",
     "start_time": "2023-10-26T01:21:18.124080Z"
    }
   },
   "outputs": [
    {
     "name": "stdout",
     "output_type": "stream",
     "text": [
      "[1, 2, 3, 4]\n",
      "[66, 11, 8, 7]\n",
      "[1, 2, 3, 4]\n"
     ]
    }
   ],
   "source": [
    "# 3 Let's Sort This List!\n",
    "# Create a function that takes a list of numbers lst, a string s and return a list of numbers as per the following rules:\n",
    "# \"Asc\" returns a sorted list in ascending order.\n",
    "# \"Des\" returns a sorted list in descending order.\n",
    "# \"None\" returns a list without any modification.\n",
    "\n",
    "# Examples\n",
    "# asc_des_none([4, 3, 2, 1], \"Asc\" ) ➞ [1, 2, 3, 4]\n",
    "# asc_des_none([7, 8, 11, 66], \"Des\") ➞ [66, 11, 8, 7]\n",
    "# asc_des_none([1, 2, 3, 4], \"None\") ➞ [1, 2, 3, 4]\n",
    "\n",
    "def asc_des_none(lst, s):\n",
    "    if s == \"Asc\":\n",
    "        return sorted(lst)\n",
    "    elif s == \"Des\":\n",
    "        return sorted(lst, reverse=True)\n",
    "    else:\n",
    "        return lst\n",
    "\n",
    "print(asc_des_none([4, 3, 2, 1], \"Asc\" ))\n",
    "print(asc_des_none([7, 8, 11, 66], \"Des\"))\n",
    "print(asc_des_none([1, 2, 3, 4], \"None\"))\n"
   ]
  },
  {
   "cell_type": "code",
   "execution_count": 5,
   "metadata": {
    "ExecuteTime": {
     "end_time": "2023-10-26T01:21:18.363825Z",
     "start_time": "2023-10-26T01:21:18.128110Z"
    }
   },
   "outputs": [
    {
     "name": "stdout",
     "output_type": "stream",
     "text": [
      "True\n",
      "False\n",
      "True\n"
     ]
    }
   ],
   "source": [
    "\n",
    "# 4. Circle or Square\n",
    "# Given the radius of a circle and the area of a square, return True if the circumference of the circle is greater than the square's perimeter and False if the square's perimeter is greater than the circumference of the circle.\n",
    "\n",
    "# Examples\n",
    "# circle_or_square(16, 625) ➞ True\n",
    "# circle_or_square(5, 100) ➞ False\n",
    "# circle_or_square(8, 144) ➞ True\n",
    "\n",
    "import math\n",
    "\n",
    "def circle_or_square(rad, area):\n",
    "    if (2 * math.pi * rad) > (4 * math.sqrt(area)):\n",
    "        return True\n",
    "    else:\n",
    "        return False\n",
    "\n",
    "print(circle_or_square(16, 625))\n",
    "print(circle_or_square(5, 100))\n",
    "print(circle_or_square(8, 144))\n"
   ]
  },
  {
   "cell_type": "code",
   "execution_count": 6,
   "metadata": {
    "ExecuteTime": {
     "end_time": "2023-10-26T01:21:18.364121Z",
     "start_time": "2023-10-26T01:21:18.136574Z"
    }
   },
   "outputs": [
    {
     "name": "stdout",
     "output_type": "stream",
     "text": [
      "2\n",
      "4\n",
      "1\n"
     ]
    }
   ],
   "source": [
    "# 5. Length of Number\n",
    "# Create a function that takes a number num and returns its length.\n",
    "\n",
    "# Examples\n",
    "# number_length(10) ➞ 2\n",
    "# number_length(5000) ➞ 4\n",
    "# number_length(0) ➞ 1\n",
    "\n",
    "def number_length(num):\n",
    "    return len(str(num))\n",
    "\n",
    "print(number_length(10))\n",
    "print(number_length(5000))\n",
    "print(number_length(0))\n"
   ]
  },
  {
   "cell_type": "code",
   "execution_count": 7,
   "metadata": {
    "ExecuteTime": {
     "end_time": "2023-10-26T01:21:18.364785Z",
     "start_time": "2023-10-26T01:21:18.140810Z"
    }
   },
   "outputs": [
    {
     "name": "stdout",
     "output_type": "stream",
     "text": [
      "Russia is 11.48% of the total world's landmass\n",
      "USA is 6.29% of the total world's landmass\n",
      "Iran is 1.11% of the total world's landmass\n"
     ]
    }
   ],
   "source": [
    "\n",
    "# 6. Get the Area of a Country\n",
    "# Create a function that takes a country's name and its area as arguments and returns the area of the country's proportion of the total world's landmass.\n",
    "\n",
    "# Examples\n",
    "# area_of_country(\"Russia\", 17098242) ➞ \"Russia is 11.48% of the total world's landmass\"\n",
    "# area_of_country(\"USA\", 9372610), \"USA is 6.29% of the total world's landmass\"\n",
    "# area_of_country(\"Iran\", 1648195) ➞ \"Iran is 1.11% of the total world's landmass\"\n",
    "\n",
    "# Notes\n",
    "# The total world's landmass is 148,940,000 [Km^2]\n",
    "# Round the result to two decimal places.\n",
    "\n",
    "def area_of_country(name, area):\n",
    "    print(\"{} is {:.2%} of the total world's landmass\".format(name, area / 148940000))\n",
    "\n",
    "area_of_country(\"Russia\", 17098242)\n",
    "area_of_country(\"USA\", 9372610)\n",
    "area_of_country(\"Iran\", 1648195)"
   ]
  },
  {
   "cell_type": "code",
   "execution_count": 8,
   "metadata": {
    "ExecuteTime": {
     "end_time": "2023-10-26T01:21:18.459575Z",
     "start_time": "2023-10-26T01:21:18.145620Z"
    }
   },
   "outputs": [
    {
     "name": "stdout",
     "output_type": "stream",
     "text": [
      "[7, 14, 21, 28, 35]\n",
      "[12, 24, 36, 48, 60, 72, 84, 96, 108, 120]\n",
      "[17, 34, 51, 68, 85, 102]\n"
     ]
    }
   ],
   "source": [
    "\n",
    "# 7. List of Multiples\n",
    "# Create a function that takes two numbers as arguments (num, length) and returns a list of multiples of num until the list length reaches length.\n",
    "\n",
    "# Examples\n",
    "# list_of_multiples(7, 5) ➞ [7, 14, 21, 28, 35]\n",
    "# list_of_multiples(12, 10) ➞ [12, 24, 36, 48, 60, 72, 84, 96, 108, 120]\n",
    "# list_of_multiples(17, 6) ➞ [17, 34, 51, 68, 85, 102]\n",
    "\n",
    "def list_of_multiples(num, length):\n",
    "    return [num * i for i in range(1, length + 1)]\n",
    "\n",
    "print(list_of_multiples(7, 5))\n",
    "print(list_of_multiples(12, 10))\n",
    "print(list_of_multiples(17, 6))\n"
   ]
  },
  {
   "cell_type": "code",
   "execution_count": 9,
   "metadata": {
    "ExecuteTime": {
     "end_time": "2023-10-26T01:21:18.506787Z",
     "start_time": "2023-10-26T01:21:18.149586Z"
    }
   },
   "outputs": [
    {
     "name": "stdout",
     "output_type": "stream",
     "text": [
      "288\n",
      "34560\n",
      "24883200\n"
     ]
    }
   ],
   "source": [
    "# 8. Factorial of Factorials\n",
    "# Create a function that takes an integer n and returns the factorial of factorials. See below examples for a better understanding:\n",
    "\n",
    "# Examples\n",
    "# fact_of_fact(4) ➞ 288\n",
    "# # 4! * 3! * 2! * 1! = 288\n",
    "# fact_of_fact(5) ➞ 34560\n",
    "# fact_of_fact(6) ➞ 24883200\n",
    "\n",
    "def fact_of_fact(num):\n",
    "    fact = 1\n",
    "    for i in range(1, num + 1):\n",
    "        fact *= math.factorial(i)\n",
    "    return fact\n",
    "\n",
    "print(fact_of_fact(4))\n",
    "print(fact_of_fact(5))\n",
    "print(fact_of_fact(6))\n"
   ]
  },
  {
   "cell_type": "code",
   "execution_count": 10,
   "metadata": {
    "ExecuteTime": {
     "end_time": "2023-10-26T01:21:18.561723Z",
     "start_time": "2023-10-26T01:21:18.155131Z"
    }
   },
   "outputs": [
    {
     "name": "stdout",
     "output_type": "stream",
     "text": [
      "----- is - Wednesd-y!\n",
      "The *** jumped **** the moon.\n",
      "Why did the ******* cross the ****?\n"
     ]
    }
   ],
   "source": [
    "\n",
    "# 9. Censor Words from List\n",
    "# Create a function that takes a string txt and censors any word from a given list lst. The text removed must be replaced by the given character char.\n",
    "\n",
    "# Examples\n",
    "# censor_string(\"Today is a Wednesday!\", [\"Today\", \"a\"], \"-\") ➞ \"----- is - Wednesday!\"\n",
    "# censor_string(\"The cow jumped over the moon.\", [\"cow\", \"over\"], \"*\"), \"The *** jumped **** the moon.\")\n",
    "# censor_string(\"Why did the chicken cross the road?\", [\"Did\", \"chicken\", \"road\"], \"*\") ➞ \"Why *** the ******* cross the ****?\"\n",
    "\n",
    "def censor_string(txt, lst, char):\n",
    "    for i in lst:\n",
    "        txt = txt.replace(i, char * len(i))\n",
    "    return txt\n",
    "\n",
    "print(censor_string(\"Today is a Wednesday!\", [\"Today\", \"a\"], \"-\"))\n",
    "print(censor_string(\"The cow jumped over the moon.\", [\"cow\", \"over\"], \"*\"))\n",
    "print(censor_string(\"Why did the chicken cross the road?\", [\"Did\", \"chicken\", \"road\"], \"*\"))\n"
   ]
  },
  {
   "cell_type": "code",
   "execution_count": 11,
   "metadata": {
    "ExecuteTime": {
     "end_time": "2023-10-26T01:21:18.564845Z",
     "start_time": "2023-10-26T01:21:18.160593Z"
    }
   },
   "outputs": [
    {
     "name": "stdout",
     "output_type": "stream",
     "text": [
      "David Jones is age 25\n",
      "David Jones is 175cm\n",
      "David Jones weighs 75kg\n"
     ]
    }
   ],
   "source": [
    "# 10. Classes For Fetching Information on a Sports Player\n",
    "# Create a class that takes the following four arguments for a particular football player:\n",
    "# name\n",
    "# age\n",
    "# height\n",
    "# weight\n",
    "\n",
    "# Also, create three functions for the class that returns the following strings:\n",
    "# get_age() returns \"name is age age\"\n",
    "# get_height() returns \"name is heightcm\"\n",
    "# get_weight() returns \"name weighs weightkg\"\n",
    "\n",
    "# Examples\n",
    "#  p1 = player(\"David Jones\", 25, 175, 75)\n",
    "#  p1.get_age() ➞ \"David Jones is age 25\"\n",
    "#  p1.get_height() ➞ \"David Jones is 175cm\"\n",
    "#  p1.get_weight() ➞ \"David Jones weighs 75kg\"\n",
    "\n",
    "class player:\n",
    "    def __init__(self, name, age, height, weight):\n",
    "        self.name = name\n",
    "        self.age = age\n",
    "        self.height = height\n",
    "        self.weight = weight\n",
    "    \n",
    "    def get_age(self):\n",
    "        return \"{} is age {}\".format(self.name, self.age)\n",
    "    \n",
    "    def get_height(self):\n",
    "        return \"{} is {}cm\".format(self.name, self.height)\n",
    "    \n",
    "    def get_weight(self):\n",
    "        return \"{} weighs {}kg\".format(self.name, self.weight)\n",
    "    \n",
    "p1 = player(\"David Jones\", 25, 175, 75)\n",
    "print(p1.get_age())\n",
    "print(p1.get_height())\n",
    "print(p1.get_weight())\n"
   ]
  }
 ],
 "metadata": {
  "kernelspec": {
   "display_name": "Science",
   "language": "python",
   "name": "python3"
  },
  "language_info": {
   "codemirror_mode": {
    "name": "ipython",
    "version": 3
   },
   "file_extension": ".py",
   "mimetype": "text/x-python",
   "name": "python",
   "nbconvert_exporter": "python",
   "pygments_lexer": "ipython3",
   "version": "3.11.6"
  }
 },
 "nbformat": 4,
 "nbformat_minor": 2
}
